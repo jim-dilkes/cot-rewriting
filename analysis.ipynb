{
 "cells": [
  {
   "cell_type": "code",
   "execution_count": 48,
   "metadata": {},
   "outputs": [],
   "source": [
    "import pandas as pd\n",
    "\n",
    "our_results = pd.read_csv(\"./.results/all_results.csv\")\n",
    "our_results['Paper'] = 'Ours'\n",
    "\n",
    "others_results = pd.read_csv(\"./.results/others_results.csv\")\n",
    "others_results['System message type'] = 'None'"
   ]
  },
  {
   "cell_type": "code",
   "execution_count": 49,
   "metadata": {},
   "outputs": [],
   "source": [
    "df = pd.concat([others_results,our_results], join='inner')\n",
    "df=df.fillna('None')\n",
    "\n",
    "pd.pivot_table(df, index = ['Paper','Model','Prompt type','System message type'], columns='Task', aggfunc=sum)"
   ]
  }
 ],
 "metadata": {
  "kernelspec": {
   "display_name": ".venv",
   "language": "python",
   "name": "python3"
  },
  "language_info": {
   "codemirror_mode": {
    "name": "ipython",
    "version": 3
   },
   "file_extension": ".py",
   "mimetype": "text/x-python",
   "name": "python",
   "nbconvert_exporter": "python",
   "pygments_lexer": "ipython3",
   "version": "3.11.4"
  },
  "orig_nbformat": 4
 },
 "nbformat": 4,
 "nbformat_minor": 2
}
