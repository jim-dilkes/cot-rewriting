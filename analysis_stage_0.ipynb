{
 "cells": [
  {
   "cell_type": "code",
   "execution_count": null,
   "metadata": {},
   "outputs": [],
   "source": [
    "import pandas as pd\n",
    "import os\n",
    "\n",
    "results_dir = './results'\n",
    "results_dir = './.archive/results/stage_1_replications'\n",
    "our_results = pd.read_csv(os.path.join(results_dir,\"all_results.csv\"))\n",
    "our_results['Paper'] = 'Ours'\n",
    "\n",
    "others_dir = './results'\n",
    "others_results = pd.read_csv(os.path.join(others_dir,\"others_results.csv\"))\n",
    "others_results['System message type'] = 'None'"
   ]
  },
  {
   "cell_type": "code",
   "execution_count": null,
   "metadata": {},
   "outputs": [],
   "source": [
    "df = pd.concat([others_results,our_results], join='inner')\n",
    "df=df.fillna('None')\n",
    "\n",
    "all_results_table = pd.pivot_table(df, index = ['Paper','Model','Prompt type','System message type'], columns='Task', aggfunc=sum)\n",
    "# all_results_table = pd.pivot_table(df[df['Paper']=='Ours'], index = ['Paper','Model','Prompt type','System message type'], columns='Task', aggfunc=sum)\n",
    "all_results_table.to_csv(\"./results/all_results_table.csv\")\n",
    "all_results_table"
   ]
  },
  {
   "cell_type": "code",
   "execution_count": null,
   "metadata": {},
   "outputs": [],
   "source": [
    "costs_df = our_results[['Task','Model','Prompt type','System message type']]\n",
    "costs_df['Total Cost per Example'] = our_results['Cost_Total_Total'] / our_results['Number of examples']\n",
    "costs_df.sort_values(by=['Total Cost per Example'], ascending=False)"
   ]
  }
 ],
 "metadata": {
  "kernelspec": {
   "display_name": ".venv",
   "language": "python",
   "name": "python3"
  },
  "language_info": {
   "codemirror_mode": {
    "name": "ipython",
    "version": 3
   },
   "file_extension": ".py",
   "mimetype": "text/x-python",
   "name": "python",
   "nbconvert_exporter": "python",
   "pygments_lexer": "ipython3",
   "version": "3.11.4"
  },
  "orig_nbformat": 4
 },
 "nbformat": 4,
 "nbformat_minor": 2
}
